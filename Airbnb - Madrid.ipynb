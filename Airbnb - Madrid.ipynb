{
 "cells": [
  {
   "cell_type": "code",
   "execution_count": null,
   "id": "fb4fe1f4-f8f7-4379-bca0-dd5789b556f4",
   "metadata": {},
   "outputs": [],
   "source": [
    "import pandas as pd\n",
    "import matplotlib.pyplot as plt\n",
    "import seaborn as sns\n",
    "\n",
    "# 2. Load Dataset\n",
    "df = pd.read_csv('listings.csv')  # <-- make sure your CSV file is in the same folder\n",
    "\n",
    "# 3. Quick Look at Data\n",
    "print(df.shape)\n",
    "print(df.columns)\n",
    "print(df.head())\n",
    "\n",
    "# 4. Data Cleaning\n",
    "\n",
    "# Clean 'price' column if it exists (remove $ sign and commas, make numeric)\n",
    "if 'price' in df.columns:\n",
    "    df['price'] = df['price'].replace({'\\$':'', ',':''}, regex=True).astype(float)\n",
    "\n",
    "df.fillna('Missing', inplace=True)\n",
    "\n",
    "# 5. Basic Analysis\n",
    "\n",
    "# Top 10 neighborhoods by listing count\n",
    "top_neighborhoods = df['neighbourhood_cleansed'].value_counts().head(10)\n",
    "print(top_neighborhoods)\n",
    "\n",
    "# Average price by neighborhood\n",
    "avg_price_neighborhood = df.groupby('neighbourhood_cleansed')['price'].mean().sort_values(ascending=False).head(10)\n",
    "print(avg_price_neighborhood)\n",
    "\n",
    "# Plot top neighborhoods\n",
    "plt.figure(figsize=(10,6))\n",
    "sns.barplot(x=top_neighborhoods.values, y=top_neighborhoods.index, palette='viridis')\n",
    "plt.title('Top 10 Neighborhoods by Number of Listings')\n",
    "plt.xlabel('Number of Listings')\n",
    "plt.ylabel('Neighborhood')\n",
    "plt.show()\n",
    "\n",
    "# Plot average prices\n",
    "plt.figure(figsize=(10,6))\n",
    "sns.barplot(x=avg_price_neighborhood.values, y=avg_price_neighborhood.index, palette='magma')\n",
    "plt.title('Top 10 Neighborhoods by Average Price')\n",
    "plt.xlabel('Average Price ($)')\n",
    "plt.ylabel('Neighborhood')\n",
    "plt.show()\n",
    "\n",
    "# 7. Save Cleaned Data (Optional)\n",
    "df.to_csv('airbnb_cleaned.csv', index=False)\n"
   ]
  },
  {
   "cell_type": "code",
   "execution_count": null,
   "id": "c9171e68-8092-406f-81c6-6944bfb84444",
   "metadata": {},
   "outputs": [],
   "source": []
  }
 ],
 "metadata": {
  "kernelspec": {
   "display_name": "",
   "name": ""
  },
  "language_info": {
   "name": ""
  }
 },
 "nbformat": 4,
 "nbformat_minor": 5
}
